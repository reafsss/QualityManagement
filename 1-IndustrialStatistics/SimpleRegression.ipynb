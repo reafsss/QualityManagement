{
 "cells": [
  {
   "cell_type": "markdown",
   "metadata": {},
   "source": [
    "# 단순회기분석\n",
    "\n",
    "* 서로 대응관계에 있는 두 변량 데이터 x, y의 관계의 회귀선이 직선인 경우를 단순회귀 또는 직선회귀라 하며, 데이터로부터 수학적 모형을 추정하는 통계적 분석을 회귀분석이라 한다.\n",
    "\n",
    "## 추정회귀방정식\n",
    "\n",
    "* 일정한 직선으로부터 산점도에 나타난 점들의 산포가 최소가 되게 하는 최소자승법으로 회귀직선을 추정한다.\n",
    "* y = a + bx\n",
    "* **b** = S(xy)/S(xx), **a** = y_aver - b * x_aver"
   ]
  },
  {
   "cell_type": "code",
   "execution_count": 14,
   "metadata": {},
   "outputs": [],
   "source": [
    "# 데이터 정의\n",
    "x = [11, 10, 14, 18, 10, 5, 12, 7, 15, 16]\n",
    "y = [6, 4, 6, 9, 3, 2, 8, 3, 9, 7]"
   ]
  },
  {
   "cell_type": "code",
   "execution_count": 23,
   "metadata": {},
   "outputs": [
    {
     "name": "stdout",
     "output_type": "stream",
     "text": [
      "-------------------------------------------------------\n",
      "S_xy: 83.4000, S_xx: 147.6000, S_yy: 60.1000\n",
      "-------------------------------------------------------\n",
      "b: 0.5650, a: -0.9675\n",
      "-------------------------------------------------------\n",
      "추정회귀방정식: y = -0.9675 + 0.5650x\n"
     ]
    }
   ],
   "source": [
    "# x와 y의 평균 구하기\n",
    "x_aver = sum(x)/len(x)\n",
    "y_aver = sum(y)/len(y)\n",
    "\n",
    "# S(xy), S(xx) 구하기\n",
    "n=len(x)\n",
    "x_squared = []\n",
    "y_squared = []\n",
    "xy_product = []\n",
    "for i in x:\n",
    "    x_squared.append(i*i)\n",
    "for i in y:\n",
    "    y_squared.append(i*i)\n",
    "for i in range(0,10):\n",
    "    xy_product.append(x[i]*y[i])\n",
    "\n",
    "S_xy = sum(xy_product) - n * x_aver * y_aver\n",
    "S_xx = sum(x_squared) - n * x_aver * x_aver\n",
    "S_yy = sum(y_squared) - n * y_aver * y_aver\n",
    "print('-------------------------------------------------------')\n",
    "print('S_xy: {0:.4f}, S_xx: {1:.4f}, S_yy: {2:.4f}'.format(S_xy, S_xx, S_yy))\n",
    "\n",
    "# b, a 구하기\n",
    "b = S_xy/S_xx\n",
    "a = y_aver - b * x_aver\n",
    "print('-------------------------------------------------------')\n",
    "print('b: {0:.4f}, a: {1:.4f}'.format(b, a))\n",
    "\n",
    "# 추정회귀방적식\n",
    "print('-------------------------------------------------------')\n",
    "print('추정회귀방정식: y = {0:.4f} + {1:.4f}x'.format(a, b))"
   ]
  },
  {
   "cell_type": "code",
   "execution_count": null,
   "metadata": {},
   "outputs": [],
   "source": []
  },
  {
   "cell_type": "code",
   "execution_count": null,
   "metadata": {},
   "outputs": [],
   "source": []
  },
  {
   "cell_type": "code",
   "execution_count": null,
   "metadata": {},
   "outputs": [],
   "source": []
  },
  {
   "cell_type": "code",
   "execution_count": null,
   "metadata": {},
   "outputs": [],
   "source": []
  },
  {
   "cell_type": "code",
   "execution_count": null,
   "metadata": {},
   "outputs": [],
   "source": []
  },
  {
   "cell_type": "code",
   "execution_count": null,
   "metadata": {},
   "outputs": [],
   "source": []
  },
  {
   "cell_type": "code",
   "execution_count": null,
   "metadata": {},
   "outputs": [],
   "source": []
  }
 ],
 "metadata": {
  "kernelspec": {
   "display_name": "Python 3",
   "language": "python",
   "name": "python3"
  },
  "language_info": {
   "codemirror_mode": {
    "name": "ipython",
    "version": 3
   },
   "file_extension": ".py",
   "mimetype": "text/x-python",
   "name": "python",
   "nbconvert_exporter": "python",
   "pygments_lexer": "ipython3",
   "version": "3.8.5"
  },
  "toc": {
   "base_numbering": 1,
   "nav_menu": {},
   "number_sections": true,
   "sideBar": true,
   "skip_h1_title": false,
   "title_cell": "Table of Contents",
   "title_sidebar": "Contents",
   "toc_cell": false,
   "toc_position": {},
   "toc_section_display": true,
   "toc_window_display": false
  },
  "varInspector": {
   "cols": {
    "lenName": 16,
    "lenType": 16,
    "lenVar": 40
   },
   "kernels_config": {
    "python": {
     "delete_cmd_postfix": "",
     "delete_cmd_prefix": "del ",
     "library": "var_list.py",
     "varRefreshCmd": "print(var_dic_list())"
    },
    "r": {
     "delete_cmd_postfix": ") ",
     "delete_cmd_prefix": "rm(",
     "library": "var_list.r",
     "varRefreshCmd": "cat(var_dic_list()) "
    }
   },
   "types_to_exclude": [
    "module",
    "function",
    "builtin_function_or_method",
    "instance",
    "_Feature"
   ],
   "window_display": false
  }
 },
 "nbformat": 4,
 "nbformat_minor": 4
}
